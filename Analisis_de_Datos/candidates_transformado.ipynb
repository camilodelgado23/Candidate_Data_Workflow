{
 "cells": [
  {
   "cell_type": "markdown",
   "metadata": {},
   "source": [
    "# candidates_transformado Notebook"
   ]
  },
  {
   "cell_type": "markdown",
   "metadata": {},
   "source": [
    "En este notebook vamos a filtrar el dataset para solo dejar los candidatos contratados, esta filtración se sacaran según el puntaje de las 2 pruebas, si tienen el puntaje mayor o igual a 7 se lo considera al candidato contratado. Esto con el objetivo de facilitar la visualización de datos \n",
    "\n",
    "También se le va a crear una nueva columna al Dataset llamada ID para una correcta identificación de cada candidatos \n"
   ]
  },
  {
   "cell_type": "markdown",
   "metadata": {},
   "source": [
    "#### Importamos las librerias y la conexion "
   ]
  },
  {
   "cell_type": "code",
   "execution_count": 2,
   "metadata": {},
   "outputs": [
    {
     "name": "stdout",
     "output_type": "stream",
     "text": [
      "Directorio de trabajo actual: c:\\Users\\mirlo\\workshop1\\Analisis_de_Datos\n"
     ]
    }
   ],
   "source": [
    "import os\n",
    "\n",
    "print(\"Directorio de trabajo actual:\", os.getcwd())"
   ]
  },
  {
   "cell_type": "code",
   "execution_count": 3,
   "metadata": {},
   "outputs": [
    {
     "name": "stdout",
     "output_type": "stream",
     "text": [
      "Directorio de trabajo actual después del cambio: C:\\Users\\mirlo\\workshop1\n"
     ]
    }
   ],
   "source": [
    "import os\n",
    "\n",
    "# Cambia al directorio raíz del proyecto\n",
    "os.chdir('C:/Users/mirlo/workshop1')\n",
    "\n",
    "# Verifica el cambio\n",
    "print(\"Directorio de trabajo actual después del cambio:\", os.getcwd())"
   ]
  },
  {
   "cell_type": "code",
   "execution_count": 12,
   "metadata": {},
   "outputs": [
    {
     "name": "stdout",
     "output_type": "stream",
     "text": [
      "Attempting to connect to the database...\n",
      "Connection to MySQL database established successfully.\n"
     ]
    }
   ],
   "source": [
    "import pandas as pd \n",
    "from Base_de_Datos_Operaciones.conexionBD import create_connection\n",
    "\n",
    "connection = create_connection()"
   ]
  },
  {
   "cell_type": "markdown",
   "metadata": {},
   "source": [
    "#### Seleccionamos la tabla que esta en nuestra BD "
   ]
  },
  {
   "cell_type": "code",
   "execution_count": 14,
   "metadata": {},
   "outputs": [
    {
     "name": "stderr",
     "output_type": "stream",
     "text": [
      "C:\\Users\\mirlo\\AppData\\Local\\Temp\\ipykernel_21968\\1710690173.py:3: UserWarning: pandas only supports SQLAlchemy connectable (engine/connection) or database string URI or sqlite3 DBAPI2 connection. Other DBAPI2 objects are not tested. Please consider using SQLAlchemy.\n",
      "  candidates = pd.read_sql(query, connection)\n"
     ]
    },
    {
     "name": "stdout",
     "output_type": "stream",
     "text": [
      "Datos cargados correctamente.\n"
     ]
    }
   ],
   "source": [
    "if connection is not None:\n",
    "    query = \"SELECT * FROM candidates\"\n",
    "    candidates = pd.read_sql(query, connection)\n",
    "    print(\"Datos cargados correctamente.\")\n",
    "else:\n",
    "    print(\"Conexión a la base de datos no disponible.\")"
   ]
  },
  {
   "cell_type": "markdown",
   "metadata": {},
   "source": [
    "#### Filtramos los candidatos contratados "
   ]
  },
  {
   "cell_type": "code",
   "execution_count": 15,
   "metadata": {},
   "outputs": [
    {
     "name": "stdout",
     "output_type": "stream",
     "text": [
      "Candidatos contratados filtrados correctamente.\n"
     ]
    }
   ],
   "source": [
    "candidatos_contratados = candidates[(candidates['CodeChallengeScore'] >= 7) & (candidates['TechnicalInterviewScore'] >= 7)].copy()\n",
    "\n",
    "print(\"Candidatos contratados filtrados correctamente.\")"
   ]
  },
  {
   "cell_type": "markdown",
   "metadata": {},
   "source": [
    "#### Agregamos Columna ID"
   ]
  },
  {
   "cell_type": "code",
   "execution_count": 16,
   "metadata": {},
   "outputs": [
    {
     "name": "stdout",
     "output_type": "stream",
     "text": [
      "Columna 'ID' añadida correctamente.\n"
     ]
    }
   ],
   "source": [
    "candidatos_contratados['ID'] = range(1, len(candidatos_contratados) + 1)\n",
    "\n",
    "print(\"Columna 'ID' añadida correctamente.\")"
   ]
  },
  {
   "cell_type": "markdown",
   "metadata": {},
   "source": [
    "#### Guardamos el Dataset filtrado en la carpeta csv "
   ]
  },
  {
   "cell_type": "code",
   "execution_count": 17,
   "metadata": {},
   "outputs": [
    {
     "name": "stdout",
     "output_type": "stream",
     "text": [
      "Archivo 'candidatos_contratados.csv' guardado correctamente en la carpeta 'csv'.\n"
     ]
    }
   ],
   "source": [
    "candidatos_contratados.to_csv('csv/candidatos_contratados.csv', index=False)\n",
    "\n",
    "print(\"Archivo 'candidatos_contratados.csv' guardado correctamente en la carpeta 'csv'.\")"
   ]
  }
 ],
 "metadata": {
  "kernelspec": {
   "display_name": "venv",
   "language": "python",
   "name": "python3"
  },
  "language_info": {
   "codemirror_mode": {
    "name": "ipython",
    "version": 3
   },
   "file_extension": ".py",
   "mimetype": "text/x-python",
   "name": "python",
   "nbconvert_exporter": "python",
   "pygments_lexer": "ipython3",
   "version": "3.12.4"
  }
 },
 "nbformat": 4,
 "nbformat_minor": 2
}
