{
 "cells": [
  {
   "cell_type": "markdown",
   "metadata": {},
   "source": [
    "# candidates_transformado Notebook"
   ]
  },
  {
   "cell_type": "markdown",
   "metadata": {},
   "source": [
    "En este notebook vamos a filtrar el dataset para solo dejar los candidatos contratados, esta filtración se sacaran según el puntaje de las 2 pruebas, si tienen el puntaje mayor o igual a 7 se lo considera al candidato contratado. Esto con el objetivo de facilitar la visualización de datos \n",
    "\n",
    "También se le va a crear una nueva columna al Dataset llamada ID para una correcta identificación de cada candidato\n"
   ]
  },
  {
   "cell_type": "markdown",
   "metadata": {},
   "source": [
    "#### Cambiamos el directorio raíz del proyecto para facilitar la carga de las importaciones e instertar en nuevo el dataset en la carpeta csv"
   ]
  },
  {
   "cell_type": "code",
   "execution_count": 1,
   "metadata": {},
   "outputs": [
    {
     "name": "stdout",
     "output_type": "stream",
     "text": [
      "Directorio de trabajo actual después del cambio: c:\\Users\\camilo\\workshop_1\\workshop1\n"
     ]
    }
   ],
   "source": [
    "import os\n",
    "\n",
    "notebook_dir = os.getcwd()\n",
    "root_dir = os.path.abspath(os.path.join(notebook_dir, '..'))\n",
    "os.chdir(root_dir)\n",
    "\n",
    "print(\"Directorio de trabajo actual después del cambio:\", os.getcwd())"
   ]
  },
  {
   "cell_type": "markdown",
   "metadata": {},
   "source": [
    "Si a este codigo lo ejecutas mas de una vez puede que empiese a pasear por tu directorio lo que puede generar errores en las importaiones, si te ocurre reinicia el Kernel y vuelvelo a ejecutar. "
   ]
  },
  {
   "cell_type": "markdown",
   "metadata": {},
   "source": [
    "#### Importamos las librerias y la conexion "
   ]
  },
  {
   "cell_type": "code",
   "execution_count": 7,
   "metadata": {},
   "outputs": [
    {
     "name": "stdout",
     "output_type": "stream",
     "text": [
      "Attempting to connect to the database...\n",
      "Connection to MySQL database established successfully.\n"
     ]
    }
   ],
   "source": [
    "import pandas as pd \n",
    "from Base_de_Datos_Operaciones.conexionBD import create_connection\n",
    "\n",
    "connection = create_connection()"
   ]
  },
  {
   "cell_type": "markdown",
   "metadata": {},
   "source": [
    "Puede instalar las librerias ejecutando el siguiente comando en la terminal: pip install -r requirements.txt"
   ]
  },
  {
   "cell_type": "markdown",
   "metadata": {},
   "source": [
    "#### Seleccionamos la tabla que esta en nuestra BD "
   ]
  },
  {
   "cell_type": "code",
   "execution_count": 8,
   "metadata": {},
   "outputs": [
    {
     "name": "stderr",
     "output_type": "stream",
     "text": [
      "C:\\Users\\camilo\\AppData\\Local\\Temp\\ipykernel_27844\\1710690173.py:3: UserWarning: pandas only supports SQLAlchemy connectable (engine/connection) or database string URI or sqlite3 DBAPI2 connection. Other DBAPI2 objects are not tested. Please consider using SQLAlchemy.\n",
      "  candidates = pd.read_sql(query, connection)\n"
     ]
    },
    {
     "name": "stdout",
     "output_type": "stream",
     "text": [
      "Datos cargados correctamente.\n"
     ]
    }
   ],
   "source": [
    "if connection is not None:\n",
    "    query = \"SELECT * FROM candidates\"\n",
    "    candidates = pd.read_sql(query, connection)\n",
    "    print(\"Datos cargados correctamente.\")\n",
    "else:\n",
    "    print(\"Conexión a la base de datos no disponible.\")"
   ]
  },
  {
   "cell_type": "markdown",
   "metadata": {},
   "source": [
    "#### Filtramos los candidatos contratados "
   ]
  },
  {
   "cell_type": "code",
   "execution_count": 9,
   "metadata": {},
   "outputs": [
    {
     "name": "stdout",
     "output_type": "stream",
     "text": [
      "Candidatos contratados filtrados correctamente.\n"
     ]
    }
   ],
   "source": [
    "candidatos_contratados = candidates[(candidates['CodeChallengeScore'] >= 7) & (candidates['TechnicalInterviewScore'] >= 7)].copy()\n",
    "\n",
    "print(\"Candidatos contratados filtrados correctamente.\")"
   ]
  },
  {
   "cell_type": "markdown",
   "metadata": {},
   "source": [
    "#### Agregamos Columna ID"
   ]
  },
  {
   "cell_type": "code",
   "execution_count": 10,
   "metadata": {},
   "outputs": [
    {
     "name": "stdout",
     "output_type": "stream",
     "text": [
      "Columna 'ID' añadida correctamente.\n"
     ]
    }
   ],
   "source": [
    "candidatos_contratados['ID'] = range(1, len(candidatos_contratados) + 1)\n",
    "\n",
    "print(\"Columna 'ID' añadida correctamente.\")"
   ]
  },
  {
   "cell_type": "markdown",
   "metadata": {},
   "source": [
    "#### Guardamos el Dataset filtrado en la carpeta csv para posteriormente cargarlo a la tabla candidates_contratados en la Base de Datos MySQL"
   ]
  },
  {
   "cell_type": "code",
   "execution_count": 11,
   "metadata": {},
   "outputs": [
    {
     "name": "stdout",
     "output_type": "stream",
     "text": [
      "Archivo 'candidatos_contratados.csv' guardado correctamente en la carpeta 'csv'.\n"
     ]
    }
   ],
   "source": [
    "file_path = 'csv/candidatos_contratados.csv'\n",
    "\n",
    "if not os.path.exists(file_path):\n",
    "    candidatos_contratados.to_csv(file_path, index=False)\n",
    "    print(\"Archivo 'candidatos_contratados.csv' guardado correctamente en la carpeta 'csv'.\")\n",
    "else:\n",
    "    print(\"El archivo 'candidatos_contratados.csv' ya existe en la carpeta 'csv'. No se ha realizado ninguna exportación.\")"
   ]
  },
  {
   "cell_type": "markdown",
   "metadata": {},
   "source": [
    "La creación de la nueva tabla se realiza en el notebook tablasBD, mientras que la inserción de datos en la tabla se lleva a cabo en el notebook carga_dataset_BD."
   ]
  }
 ],
 "metadata": {
  "kernelspec": {
   "display_name": "venv",
   "language": "python",
   "name": "python3"
  },
  "language_info": {
   "codemirror_mode": {
    "name": "ipython",
    "version": 3
   },
   "file_extension": ".py",
   "mimetype": "text/x-python",
   "name": "python",
   "nbconvert_exporter": "python",
   "pygments_lexer": "ipython3",
   "version": "3.10.11"
  }
 },
 "nbformat": 4,
 "nbformat_minor": 2
}
