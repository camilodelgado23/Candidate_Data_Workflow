{
 "cells": [
  {
   "cell_type": "markdown",
   "metadata": {},
   "source": [
    "# tablasBD"
   ]
  },
  {
   "cell_type": "markdown",
   "metadata": {},
   "source": [
    "#### Importamos la Conexion"
   ]
  },
  {
   "cell_type": "code",
   "execution_count": 2,
   "metadata": {},
   "outputs": [],
   "source": [
    "import sys\n",
    "import os\n",
    "\n",
    "# Añade la ruta del proyecto al sys.path\n",
    "sys.path.append(os.path.abspath('C:/Users/mirlo/workshop1'))"
   ]
  },
  {
   "cell_type": "code",
   "execution_count": 3,
   "metadata": {},
   "outputs": [
    {
     "name": "stdout",
     "output_type": "stream",
     "text": [
      "Attempting to connect to the database...\n",
      "Connection to MySQL database established successfully.\n"
     ]
    }
   ],
   "source": [
    "from Base_de_Datos_Operaciones.conexionBD import create_connection\n",
    "connection = create_connection()"
   ]
  },
  {
   "cell_type": "markdown",
   "metadata": {},
   "source": [
    "#### Creamos la tabla candidates en nuestra Base de Datos donde insertaremos nuestro dataset original "
   ]
  },
  {
   "cell_type": "code",
   "execution_count": 25,
   "metadata": {},
   "outputs": [
    {
     "name": "stdout",
     "output_type": "stream",
     "text": [
      "Table 'candidates' created successfully.\n"
     ]
    }
   ],
   "source": [
    "def create_candidates_table(connection):\n",
    "    create_table_query = \"\"\"\n",
    "    CREATE TABLE IF NOT EXISTS candidates (\n",
    "        FirstName VARCHAR(150) NOT NULL,\n",
    "        LastName VARCHAR(150) NOT NULL,\n",
    "        Email VARCHAR(250) NOT NULL,\n",
    "        ApplicationDate DATE NOT NULL,\n",
    "        Country VARCHAR(150) NOT NULL,\n",
    "        YOE INT NOT NULL,\n",
    "        Seniority VARCHAR(150) NOT NULL,\n",
    "        Technology VARCHAR(150) NOT NULL, \n",
    "        CodeChallengeScore INT NOT NULL,\n",
    "        TechnicalInterviewScore INT NOT NULL\n",
    "    );\n",
    "    \"\"\"\n",
    "    try:\n",
    "        cursor = connection.cursor()\n",
    "        cursor.execute(create_table_query)\n",
    "        connection.commit()\n",
    "        print(\"Table 'candidates' created successfully.\")\n",
    "    except Exception as e:\n",
    "        print(f\"An error occurred: {e}\")\n",
    "    finally:\n",
    "        if connection.is_connected():\n",
    "            cursor.close()\n",
    "\n",
    "create_candidates_table(connection)"
   ]
  },
  {
   "cell_type": "markdown",
   "metadata": {},
   "source": [
    "#### Creamos la tabla candidates_contratados en nuestra Base de Datos donde insertaremos nuestro dataset transformado "
   ]
  },
  {
   "cell_type": "code",
   "execution_count": 4,
   "metadata": {},
   "outputs": [
    {
     "name": "stdout",
     "output_type": "stream",
     "text": [
      "Table 'candidates_contratados' created successfully.\n"
     ]
    }
   ],
   "source": [
    "def create_candidates_contratados_table(connection):\n",
    "    create_table_query = \"\"\"\n",
    "    CREATE TABLE IF NOT EXISTS candidates_contratados (\n",
    "        ID SERIAL PRIMARY KEY,\n",
    "        FirstName VARCHAR(150) NOT NULL,\n",
    "        LastName VARCHAR(150) NOT NULL,\n",
    "        Email VARCHAR(250) NOT NULL,\n",
    "        ApplicationDate DATE NOT NULL,\n",
    "        Country VARCHAR(150) NOT NULL,\n",
    "        YOE INT NOT NULL,\n",
    "        Seniority VARCHAR(150) NOT NULL,\n",
    "        Technology VARCHAR(150) NOT NULL, \n",
    "        CodeChallengeScore INT NOT NULL,\n",
    "        TechnicalInterviewScore INT NOT NULL\n",
    "    );\n",
    "    \"\"\"\n",
    "    try:\n",
    "        cursor = connection.cursor()\n",
    "        cursor.execute(create_table_query)\n",
    "        connection.commit()\n",
    "        print(\"Table 'candidates_contratados' created successfully.\")\n",
    "    except Exception as e:\n",
    "        print(f\"An error occurred: {e}\")\n",
    "    finally:\n",
    "        if connection:\n",
    "            cursor.close()\n",
    "\n",
    "create_candidates_contratados_table(connection)"
   ]
  }
 ],
 "metadata": {
  "kernelspec": {
   "display_name": "venv",
   "language": "python",
   "name": "python3"
  },
  "language_info": {
   "codemirror_mode": {
    "name": "ipython",
    "version": 3
   },
   "file_extension": ".py",
   "mimetype": "text/x-python",
   "name": "python",
   "nbconvert_exporter": "python",
   "pygments_lexer": "ipython3",
   "version": "3.12.4"
  }
 },
 "nbformat": 4,
 "nbformat_minor": 2
}
