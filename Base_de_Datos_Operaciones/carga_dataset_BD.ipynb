{
 "cells": [
  {
   "cell_type": "markdown",
   "metadata": {},
   "source": [
    "# carga_dataset_BD"
   ]
  },
  {
   "cell_type": "markdown",
   "metadata": {},
   "source": [
    "En este notebook cargamos los datasets tanto el original como el transformado, y los subimos a las tablas ubicadas en la Base de Datos MySQL "
   ]
  },
  {
   "cell_type": "markdown",
   "metadata": {},
   "source": [
    "#### Cambiamos el directorio raíz del proyecto para facilitar la carga de los datasets y las importaciones"
   ]
  },
  {
   "cell_type": "code",
   "execution_count": 1,
   "metadata": {},
   "outputs": [
    {
     "name": "stdout",
     "output_type": "stream",
     "text": [
      "Directorio de trabajo actual después del cambio: c:\\Users\\camilo\\workshop_1\\workshop1\n"
     ]
    }
   ],
   "source": [
    "import os\n",
    "\n",
    "notebook_dir = os.getcwd()\n",
    "root_dir = os.path.abspath(os.path.join(notebook_dir, '..'))\n",
    "os.chdir(root_dir)\n",
    "\n",
    "print(\"Directorio de trabajo actual después del cambio:\", os.getcwd())"
   ]
  },
  {
   "cell_type": "markdown",
   "metadata": {},
   "source": [
    "Si a este codigo lo ejecutas mas de una vez puede que empiese a pasear por tu directorio lo que puede generar errores en las importaiones, si te ocurre reinicia el Kernel y vuelvelo a ejecutar. "
   ]
  },
  {
   "cell_type": "markdown",
   "metadata": {},
   "source": [
    "#### Importamos las Librerias y la conexion "
   ]
  },
  {
   "cell_type": "code",
   "execution_count": 2,
   "metadata": {},
   "outputs": [
    {
     "name": "stdout",
     "output_type": "stream",
     "text": [
      "Attempting to connect to the database...\n",
      "Connection to MySQL database established successfully.\n"
     ]
    }
   ],
   "source": [
    "import pandas as pd  \n",
    "from Base_de_Datos_Operaciones.conexionBD import create_connection\n",
    "\n",
    "connection = create_connection()"
   ]
  },
  {
   "cell_type": "markdown",
   "metadata": {},
   "source": [
    "Puede instalar las librerias ejecutando el siguiente comando en la terminal: pip install -r requirements.txt"
   ]
  },
  {
   "cell_type": "markdown",
   "metadata": {},
   "source": [
    "#### Cargamos nuestro Dataset Original "
   ]
  },
  {
   "cell_type": "code",
   "execution_count": 3,
   "metadata": {},
   "outputs": [],
   "source": [
    "Dataset_Original = pd.read_csv('csv/candidates.csv', delimiter=';')"
   ]
  },
  {
   "cell_type": "markdown",
   "metadata": {},
   "source": [
    "#### Lo insertamos en la tabla candidates "
   ]
  },
  {
   "cell_type": "code",
   "execution_count": 4,
   "metadata": {},
   "outputs": [
    {
     "name": "stdout",
     "output_type": "stream",
     "text": [
      "Datos insertados correctamente.\n"
     ]
    }
   ],
   "source": [
    "if connection is not None:\n",
    "    cursor = connection.cursor()\n",
    "\n",
    "    insert_query = \"\"\"\n",
    "    INSERT INTO candidates (FirstName, LastName, Email, ApplicationDate, Country, YOE, Seniority, Technology, CodeChallengeScore, TechnicalInterviewScore)\n",
    "    VALUES (%s, %s, %s, %s, %s, %s, %s, %s, %s, %s)\n",
    "    \"\"\"\n",
    "    \n",
    "    data = Dataset_Original.values.tolist()\n",
    "\n",
    "    try:\n",
    "        cursor.executemany(insert_query, data)\n",
    "        connection.commit()\n",
    "        print(\"Datos insertados correctamente.\")\n",
    "    except Exception as e:\n",
    "        print(f\"Error al insertar datos: {e}\")\n",
    "    finally:\n",
    "        cursor.close()\n",
    "        connection.close()"
   ]
  },
  {
   "cell_type": "markdown",
   "metadata": {},
   "source": [
    "#### Cargamos nuestro Dataset transformado "
   ]
  },
  {
   "cell_type": "code",
   "execution_count": 3,
   "metadata": {},
   "outputs": [],
   "source": [
    "Dataset_Transformado = pd.read_csv('csv/candidatos_contratados.csv', delimiter=',')"
   ]
  },
  {
   "cell_type": "markdown",
   "metadata": {},
   "source": [
    "#### Insertamos en nuestra BD nuestro dataset transformado "
   ]
  },
  {
   "cell_type": "code",
   "execution_count": 4,
   "metadata": {},
   "outputs": [
    {
     "name": "stdout",
     "output_type": "stream",
     "text": [
      "Datos insertados correctamente.\n"
     ]
    }
   ],
   "source": [
    "data = Dataset_Transformado[['FirstName', 'LastName', 'Email', 'ApplicationDate', 'Country', 'YOE', 'Seniority', 'Technology', 'CodeChallengeScore', 'TechnicalInterviewScore']].values.tolist()\n",
    "\n",
    "if connection is not None:\n",
    "    try:\n",
    "        cursor = connection.cursor()\n",
    "\n",
    "        insert_query = \"\"\"\n",
    "        INSERT INTO candidates_contratados (FirstName, LastName, Email, ApplicationDate, Country, YOE, Seniority, Technology, CodeChallengeScore, TechnicalInterviewScore)\n",
    "        VALUES (%s, %s, %s, %s, %s, %s, %s, %s, %s, %s)\n",
    "        \"\"\"\n",
    "\n",
    "        cursor.executemany(insert_query, data)\n",
    "        connection.commit()\n",
    "        print(\"Datos insertados correctamente.\")\n",
    "\n",
    "    except Exception as e:\n",
    "        print(f\"Error al insertar datos: {e}\")\n",
    "\n",
    "    finally:\n",
    "        cursor.close()\n",
    "        connection.close()\n",
    "else:\n",
    "    print(\"La conexión a la base de datos no está disponible.\")"
   ]
  }
 ],
 "metadata": {
  "kernelspec": {
   "display_name": "venv",
   "language": "python",
   "name": "python3"
  },
  "language_info": {
   "codemirror_mode": {
    "name": "ipython",
    "version": 3
   },
   "file_extension": ".py",
   "mimetype": "text/x-python",
   "name": "python",
   "nbconvert_exporter": "python",
   "pygments_lexer": "ipython3",
   "version": "3.10.11"
  }
 },
 "nbformat": 4,
 "nbformat_minor": 2
}
